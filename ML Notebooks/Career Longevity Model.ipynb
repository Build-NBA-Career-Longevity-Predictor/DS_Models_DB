{
 "cells": [
  {
   "cell_type": "code",
   "execution_count": 1,
   "metadata": {},
   "outputs": [],
   "source": [
    "import numpy as np\n",
    "import pandas as pd\n",
    "\n",
    "pd.set_option('display.max_rows', 500)\n",
    "pd.set_option('display.max_columns', 500)"
   ]
  },
  {
   "cell_type": "markdown",
   "metadata": {},
   "source": [
    "### Load the data"
   ]
  },
  {
   "cell_type": "code",
   "execution_count": 2,
   "metadata": {},
   "outputs": [
    {
     "data": {
      "text/html": [
       "<div>\n",
       "<style scoped>\n",
       "    .dataframe tbody tr th:only-of-type {\n",
       "        vertical-align: middle;\n",
       "    }\n",
       "\n",
       "    .dataframe tbody tr th {\n",
       "        vertical-align: top;\n",
       "    }\n",
       "\n",
       "    .dataframe thead th {\n",
       "        text-align: right;\n",
       "    }\n",
       "</style>\n",
       "<table border=\"1\" class=\"dataframe\">\n",
       "  <thead>\n",
       "    <tr style=\"text-align: right;\">\n",
       "      <th></th>\n",
       "      <th>img</th>\n",
       "      <th>player</th>\n",
       "      <th>position</th>\n",
       "      <th>height</th>\n",
       "      <th>weight</th>\n",
       "      <th>college</th>\n",
       "      <th>draft_yr</th>\n",
       "      <th>pick</th>\n",
       "      <th>drafted_by</th>\n",
       "      <th>all_nba</th>\n",
       "      <th>all_star</th>\n",
       "      <th>yrs</th>\n",
       "      <th>games</th>\n",
       "      <th>games_started</th>\n",
       "      <th>tot_min_played</th>\n",
       "      <th>tot_pts</th>\n",
       "      <th>tot_trb</th>\n",
       "      <th>tot_ast</th>\n",
       "      <th>fg_pct</th>\n",
       "      <th>fg3_pct</th>\n",
       "      <th>ft_pct</th>\n",
       "      <th>min_pg</th>\n",
       "      <th>pts_pg</th>\n",
       "      <th>trb_pg</th>\n",
       "      <th>ast_pg</th>\n",
       "      <th>fg_pg</th>\n",
       "      <th>fga_pg</th>\n",
       "      <th>fg3_pg</th>\n",
       "      <th>fg3a_pg</th>\n",
       "      <th>efg_pct</th>\n",
       "      <th>ft_pg</th>\n",
       "      <th>fta_pg</th>\n",
       "      <th>orb_pg</th>\n",
       "      <th>drb_pg</th>\n",
       "      <th>steals_pg</th>\n",
       "      <th>blocks_pg</th>\n",
       "      <th>tov_pg</th>\n",
       "      <th>pf_pg</th>\n",
       "      <th>win_share</th>\n",
       "      <th>ws_per_game</th>\n",
       "      <th>bpm</th>\n",
       "      <th>vorp</th>\n",
       "      <th>attend_college</th>\n",
       "    </tr>\n",
       "  </thead>\n",
       "  <tbody>\n",
       "    <tr>\n",
       "      <th>0</th>\n",
       "      <td>https://d2cwpp38twqe55.cloudfront.net/req/2019...</td>\n",
       "      <td>Deandre Ayton</td>\n",
       "      <td>C</td>\n",
       "      <td>7-1</td>\n",
       "      <td>250lb</td>\n",
       "      <td>Arizona</td>\n",
       "      <td>2018</td>\n",
       "      <td>1</td>\n",
       "      <td>PHO</td>\n",
       "      <td>0</td>\n",
       "      <td>0</td>\n",
       "      <td>1</td>\n",
       "      <td>71</td>\n",
       "      <td>70</td>\n",
       "      <td>2183</td>\n",
       "      <td>1159</td>\n",
       "      <td>729</td>\n",
       "      <td>125</td>\n",
       "      <td>0.585</td>\n",
       "      <td>0.000</td>\n",
       "      <td>0.746</td>\n",
       "      <td>30.7</td>\n",
       "      <td>16.3</td>\n",
       "      <td>10.3</td>\n",
       "      <td>1.8</td>\n",
       "      <td>7.2</td>\n",
       "      <td>12.3</td>\n",
       "      <td>0.0</td>\n",
       "      <td>0.1</td>\n",
       "      <td>0.585</td>\n",
       "      <td>2.0</td>\n",
       "      <td>2.7</td>\n",
       "      <td>3.1</td>\n",
       "      <td>7.1</td>\n",
       "      <td>0.9</td>\n",
       "      <td>0.9</td>\n",
       "      <td>1.8</td>\n",
       "      <td>2.9</td>\n",
       "      <td>5.8</td>\n",
       "      <td>0.128</td>\n",
       "      <td>0.2</td>\n",
       "      <td>1.2</td>\n",
       "      <td>1</td>\n",
       "    </tr>\n",
       "    <tr>\n",
       "      <th>1</th>\n",
       "      <td>https://d2cwpp38twqe55.cloudfront.net/req/2019...</td>\n",
       "      <td>Marvin Bagley</td>\n",
       "      <td>PF</td>\n",
       "      <td>6-11</td>\n",
       "      <td>234lb</td>\n",
       "      <td>Duke</td>\n",
       "      <td>2018</td>\n",
       "      <td>2</td>\n",
       "      <td>SAC</td>\n",
       "      <td>0</td>\n",
       "      <td>0</td>\n",
       "      <td>1</td>\n",
       "      <td>62</td>\n",
       "      <td>4</td>\n",
       "      <td>1567</td>\n",
       "      <td>923</td>\n",
       "      <td>471</td>\n",
       "      <td>62</td>\n",
       "      <td>0.504</td>\n",
       "      <td>0.313</td>\n",
       "      <td>0.691</td>\n",
       "      <td>25.3</td>\n",
       "      <td>14.9</td>\n",
       "      <td>7.6</td>\n",
       "      <td>1.0</td>\n",
       "      <td>5.7</td>\n",
       "      <td>11.4</td>\n",
       "      <td>0.5</td>\n",
       "      <td>1.5</td>\n",
       "      <td>0.525</td>\n",
       "      <td>2.9</td>\n",
       "      <td>4.2</td>\n",
       "      <td>2.6</td>\n",
       "      <td>5.0</td>\n",
       "      <td>0.5</td>\n",
       "      <td>1.0</td>\n",
       "      <td>1.6</td>\n",
       "      <td>1.9</td>\n",
       "      <td>3.6</td>\n",
       "      <td>0.110</td>\n",
       "      <td>-1.8</td>\n",
       "      <td>0.1</td>\n",
       "      <td>1</td>\n",
       "    </tr>\n",
       "    <tr>\n",
       "      <th>2</th>\n",
       "      <td>https://d2cwpp38twqe55.cloudfront.net/req/2019...</td>\n",
       "      <td>Jaren Jackson</td>\n",
       "      <td>PF</td>\n",
       "      <td>6-11</td>\n",
       "      <td>242lb</td>\n",
       "      <td>Michigan State</td>\n",
       "      <td>2018</td>\n",
       "      <td>4</td>\n",
       "      <td>MEM</td>\n",
       "      <td>0</td>\n",
       "      <td>0</td>\n",
       "      <td>1</td>\n",
       "      <td>58</td>\n",
       "      <td>56</td>\n",
       "      <td>1515</td>\n",
       "      <td>798</td>\n",
       "      <td>272</td>\n",
       "      <td>64</td>\n",
       "      <td>0.506</td>\n",
       "      <td>0.359</td>\n",
       "      <td>0.766</td>\n",
       "      <td>26.1</td>\n",
       "      <td>13.8</td>\n",
       "      <td>4.7</td>\n",
       "      <td>1.1</td>\n",
       "      <td>5.1</td>\n",
       "      <td>10.2</td>\n",
       "      <td>0.9</td>\n",
       "      <td>2.4</td>\n",
       "      <td>0.549</td>\n",
       "      <td>2.6</td>\n",
       "      <td>3.4</td>\n",
       "      <td>1.3</td>\n",
       "      <td>3.4</td>\n",
       "      <td>0.9</td>\n",
       "      <td>1.4</td>\n",
       "      <td>1.7</td>\n",
       "      <td>3.8</td>\n",
       "      <td>3.3</td>\n",
       "      <td>0.105</td>\n",
       "      <td>0.1</td>\n",
       "      <td>0.8</td>\n",
       "      <td>1</td>\n",
       "    </tr>\n",
       "    <tr>\n",
       "      <th>3</th>\n",
       "      <td>https://d2cwpp38twqe55.cloudfront.net/req/2019...</td>\n",
       "      <td>Trae Young</td>\n",
       "      <td>PG</td>\n",
       "      <td>6-2</td>\n",
       "      <td>180lb</td>\n",
       "      <td>Oklahoma</td>\n",
       "      <td>2018</td>\n",
       "      <td>5</td>\n",
       "      <td>DAL</td>\n",
       "      <td>0</td>\n",
       "      <td>0</td>\n",
       "      <td>1</td>\n",
       "      <td>81</td>\n",
       "      <td>81</td>\n",
       "      <td>2503</td>\n",
       "      <td>1549</td>\n",
       "      <td>301</td>\n",
       "      <td>653</td>\n",
       "      <td>0.418</td>\n",
       "      <td>0.324</td>\n",
       "      <td>0.829</td>\n",
       "      <td>30.9</td>\n",
       "      <td>19.1</td>\n",
       "      <td>3.7</td>\n",
       "      <td>8.1</td>\n",
       "      <td>6.5</td>\n",
       "      <td>15.5</td>\n",
       "      <td>1.9</td>\n",
       "      <td>6.0</td>\n",
       "      <td>0.480</td>\n",
       "      <td>4.2</td>\n",
       "      <td>5.1</td>\n",
       "      <td>0.8</td>\n",
       "      <td>2.9</td>\n",
       "      <td>0.9</td>\n",
       "      <td>0.2</td>\n",
       "      <td>3.8</td>\n",
       "      <td>1.7</td>\n",
       "      <td>3.3</td>\n",
       "      <td>0.062</td>\n",
       "      <td>-1.1</td>\n",
       "      <td>0.6</td>\n",
       "      <td>1</td>\n",
       "    </tr>\n",
       "    <tr>\n",
       "      <th>4</th>\n",
       "      <td>https://d2cwpp38twqe55.cloudfront.net/req/2019...</td>\n",
       "      <td>Mohamed Bamba</td>\n",
       "      <td>C</td>\n",
       "      <td>7-1</td>\n",
       "      <td>241lb</td>\n",
       "      <td>Texas</td>\n",
       "      <td>2018</td>\n",
       "      <td>6</td>\n",
       "      <td>ORL</td>\n",
       "      <td>0</td>\n",
       "      <td>0</td>\n",
       "      <td>1</td>\n",
       "      <td>47</td>\n",
       "      <td>1</td>\n",
       "      <td>766</td>\n",
       "      <td>292</td>\n",
       "      <td>233</td>\n",
       "      <td>39</td>\n",
       "      <td>0.481</td>\n",
       "      <td>0.300</td>\n",
       "      <td>0.587</td>\n",
       "      <td>16.3</td>\n",
       "      <td>6.2</td>\n",
       "      <td>5.0</td>\n",
       "      <td>0.8</td>\n",
       "      <td>2.5</td>\n",
       "      <td>5.2</td>\n",
       "      <td>0.4</td>\n",
       "      <td>1.5</td>\n",
       "      <td>0.525</td>\n",
       "      <td>0.8</td>\n",
       "      <td>1.3</td>\n",
       "      <td>1.4</td>\n",
       "      <td>3.6</td>\n",
       "      <td>0.3</td>\n",
       "      <td>1.4</td>\n",
       "      <td>0.9</td>\n",
       "      <td>2.2</td>\n",
       "      <td>1.7</td>\n",
       "      <td>0.106</td>\n",
       "      <td>-0.2</td>\n",
       "      <td>0.4</td>\n",
       "      <td>1</td>\n",
       "    </tr>\n",
       "  </tbody>\n",
       "</table>\n",
       "</div>"
      ],
      "text/plain": [
       "                                                 img         player position  \\\n",
       "0  https://d2cwpp38twqe55.cloudfront.net/req/2019...  Deandre Ayton        C   \n",
       "1  https://d2cwpp38twqe55.cloudfront.net/req/2019...  Marvin Bagley       PF   \n",
       "2  https://d2cwpp38twqe55.cloudfront.net/req/2019...  Jaren Jackson       PF   \n",
       "3  https://d2cwpp38twqe55.cloudfront.net/req/2019...     Trae Young       PG   \n",
       "4  https://d2cwpp38twqe55.cloudfront.net/req/2019...  Mohamed Bamba        C   \n",
       "\n",
       "  height weight         college  draft_yr  pick drafted_by  all_nba  all_star  \\\n",
       "0    7-1  250lb         Arizona      2018     1        PHO        0         0   \n",
       "1   6-11  234lb            Duke      2018     2        SAC        0         0   \n",
       "2   6-11  242lb  Michigan State      2018     4        MEM        0         0   \n",
       "3    6-2  180lb        Oklahoma      2018     5        DAL        0         0   \n",
       "4    7-1  241lb           Texas      2018     6        ORL        0         0   \n",
       "\n",
       "   yrs  games  games_started  tot_min_played  tot_pts  tot_trb  tot_ast  \\\n",
       "0    1     71             70            2183     1159      729      125   \n",
       "1    1     62              4            1567      923      471       62   \n",
       "2    1     58             56            1515      798      272       64   \n",
       "3    1     81             81            2503     1549      301      653   \n",
       "4    1     47              1             766      292      233       39   \n",
       "\n",
       "   fg_pct  fg3_pct  ft_pct  min_pg  pts_pg  trb_pg  ast_pg  fg_pg  fga_pg  \\\n",
       "0   0.585    0.000   0.746    30.7    16.3    10.3     1.8    7.2    12.3   \n",
       "1   0.504    0.313   0.691    25.3    14.9     7.6     1.0    5.7    11.4   \n",
       "2   0.506    0.359   0.766    26.1    13.8     4.7     1.1    5.1    10.2   \n",
       "3   0.418    0.324   0.829    30.9    19.1     3.7     8.1    6.5    15.5   \n",
       "4   0.481    0.300   0.587    16.3     6.2     5.0     0.8    2.5     5.2   \n",
       "\n",
       "   fg3_pg  fg3a_pg  efg_pct  ft_pg  fta_pg  orb_pg  drb_pg  steals_pg  \\\n",
       "0     0.0      0.1    0.585    2.0     2.7     3.1     7.1        0.9   \n",
       "1     0.5      1.5    0.525    2.9     4.2     2.6     5.0        0.5   \n",
       "2     0.9      2.4    0.549    2.6     3.4     1.3     3.4        0.9   \n",
       "3     1.9      6.0    0.480    4.2     5.1     0.8     2.9        0.9   \n",
       "4     0.4      1.5    0.525    0.8     1.3     1.4     3.6        0.3   \n",
       "\n",
       "   blocks_pg  tov_pg  pf_pg  win_share  ws_per_game  bpm  vorp  attend_college  \n",
       "0        0.9     1.8    2.9        5.8        0.128  0.2   1.2               1  \n",
       "1        1.0     1.6    1.9        3.6        0.110 -1.8   0.1               1  \n",
       "2        1.4     1.7    3.8        3.3        0.105  0.1   0.8               1  \n",
       "3        0.2     3.8    1.7        3.3        0.062 -1.1   0.6               1  \n",
       "4        1.4     0.9    2.2        1.7        0.106 -0.2   0.4               1  "
      ]
     },
     "execution_count": 2,
     "metadata": {},
     "output_type": "execute_result"
    }
   ],
   "source": [
    "df = pd.read_csv('nba_stats.csv')\n",
    "df.head()"
   ]
  },
  {
   "cell_type": "markdown",
   "metadata": {},
   "source": [
    "### Getting rid of instances of a player playing two positions for encoding purposes."
   ]
  },
  {
   "cell_type": "code",
   "execution_count": 3,
   "metadata": {},
   "outputs": [
    {
     "data": {
      "text/plain": [
       "SG    470\n",
       "PF    454\n",
       "SF    444\n",
       "PG    407\n",
       "C     394\n",
       "Name: position, dtype: int64"
      ]
     },
     "execution_count": 3,
     "metadata": {},
     "output_type": "execute_result"
    }
   ],
   "source": [
    "df['position'] = df['position'].apply(lambda x: x.split('-')[0])\n",
    "df['position'].value_counts()"
   ]
  },
  {
   "cell_type": "markdown",
   "metadata": {},
   "source": [
    "### Creating new features so we can use height and weight in the model."
   ]
  },
  {
   "cell_type": "code",
   "execution_count": 4,
   "metadata": {},
   "outputs": [],
   "source": [
    "def height_to_inches(height):\n",
    "    feet, inches = height.split('-')\n",
    "    feet = int(feet)\n",
    "    inches = int(inches)\n",
    "    inches = (feet*12)+inches\n",
    "    return inches"
   ]
  },
  {
   "cell_type": "code",
   "execution_count": 5,
   "metadata": {},
   "outputs": [],
   "source": [
    "df['inches'] = df['height'].apply(height_to_inches)"
   ]
  },
  {
   "cell_type": "code",
   "execution_count": 6,
   "metadata": {},
   "outputs": [],
   "source": [
    "df['pounds'] = df['weight'].apply(lambda x: x.split('lb')[0])\n",
    "df['pounds'] = df['pounds'].astype('int64')"
   ]
  },
  {
   "cell_type": "code",
   "execution_count": 7,
   "metadata": {},
   "outputs": [
    {
     "data": {
      "text/plain": [
       "dtype('int64')"
      ]
     },
     "execution_count": 7,
     "metadata": {},
     "output_type": "execute_result"
    }
   ],
   "source": [
    "df['pounds'].dtype"
   ]
  },
  {
   "cell_type": "markdown",
   "metadata": {},
   "source": [
    "### Assigning each position an integer value so they can be used in the model."
   ]
  },
  {
   "cell_type": "code",
   "execution_count": 8,
   "metadata": {},
   "outputs": [],
   "source": [
    "def pos_to_num(position):\n",
    "    if position == 'PG':\n",
    "        return 1\n",
    "    if position == 'SG':\n",
    "        return 2\n",
    "    if position == 'SF':\n",
    "        return 3\n",
    "    if position == 'PF':\n",
    "        return 4\n",
    "    if position == 'C':\n",
    "        return 5\n",
    "    else:\n",
    "        raise Exception('not a valid position')"
   ]
  },
  {
   "cell_type": "code",
   "execution_count": 9,
   "metadata": {},
   "outputs": [],
   "source": [
    "df['pos_num'] = df['position'].apply(pos_to_num)"
   ]
  },
  {
   "cell_type": "markdown",
   "metadata": {},
   "source": [
    "### Removing some unnecessary columns to clean up the dataset."
   ]
  },
  {
   "cell_type": "code",
   "execution_count": 10,
   "metadata": {},
   "outputs": [
    {
     "data": {
      "text/plain": [
       "Index(['img', 'player', 'position', 'height', 'weight', 'college', 'draft_yr',\n",
       "       'pick', 'drafted_by', 'all_nba', 'all_star', 'yrs', 'games',\n",
       "       'games_started', 'tot_min_played', 'tot_pts', 'tot_trb', 'tot_ast',\n",
       "       'fg_pct', 'fg3_pct', 'ft_pct', 'min_pg', 'pts_pg', 'trb_pg', 'ast_pg',\n",
       "       'fg_pg', 'fga_pg', 'fg3_pg', 'fg3a_pg', 'efg_pct', 'ft_pg', 'fta_pg',\n",
       "       'orb_pg', 'drb_pg', 'steals_pg', 'blocks_pg', 'tov_pg', 'pf_pg',\n",
       "       'win_share', 'ws_per_game', 'bpm', 'vorp', 'attend_college', 'inches',\n",
       "       'pounds', 'pos_num'],\n",
       "      dtype='object')"
      ]
     },
     "execution_count": 10,
     "metadata": {},
     "output_type": "execute_result"
    }
   ],
   "source": [
    "df.columns"
   ]
  },
  {
   "cell_type": "code",
   "execution_count": 11,
   "metadata": {},
   "outputs": [],
   "source": [
    "cols = ['img', 'player', 'position', 'height', 'weight', 'college', 'draft_yr',\n",
    "        'pick', 'drafted_by', 'yrs', 'fg_pct', 'fg3_pct', 'ft_pct', 'min_pg', \n",
    "        'pts_pg', 'trb_pg', 'ast_pg', 'fg_pg', 'fga_pg', 'fg3_pg', 'fg3a_pg', \n",
    "        'efg_pct', 'ft_pg', 'fta_pg', 'orb_pg', 'drb_pg', 'steals_pg', 'blocks_pg', \n",
    "        'tov_pg', 'pf_pg', 'ws_per_game', 'bpm', 'vorp', 'attend_college', 'inches',\n",
    "        'pounds', 'pos_num']"
   ]
  },
  {
   "cell_type": "code",
   "execution_count": 12,
   "metadata": {},
   "outputs": [
    {
     "data": {
      "text/html": [
       "<div>\n",
       "<style scoped>\n",
       "    .dataframe tbody tr th:only-of-type {\n",
       "        vertical-align: middle;\n",
       "    }\n",
       "\n",
       "    .dataframe tbody tr th {\n",
       "        vertical-align: top;\n",
       "    }\n",
       "\n",
       "    .dataframe thead th {\n",
       "        text-align: right;\n",
       "    }\n",
       "</style>\n",
       "<table border=\"1\" class=\"dataframe\">\n",
       "  <thead>\n",
       "    <tr style=\"text-align: right;\">\n",
       "      <th></th>\n",
       "      <th>img</th>\n",
       "      <th>player</th>\n",
       "      <th>position</th>\n",
       "      <th>height</th>\n",
       "      <th>weight</th>\n",
       "      <th>college</th>\n",
       "      <th>draft_yr</th>\n",
       "      <th>pick</th>\n",
       "      <th>drafted_by</th>\n",
       "      <th>yrs</th>\n",
       "      <th>fg_pct</th>\n",
       "      <th>fg3_pct</th>\n",
       "      <th>ft_pct</th>\n",
       "      <th>min_pg</th>\n",
       "      <th>pts_pg</th>\n",
       "      <th>trb_pg</th>\n",
       "      <th>ast_pg</th>\n",
       "      <th>fg_pg</th>\n",
       "      <th>fga_pg</th>\n",
       "      <th>fg3_pg</th>\n",
       "      <th>fg3a_pg</th>\n",
       "      <th>efg_pct</th>\n",
       "      <th>ft_pg</th>\n",
       "      <th>fta_pg</th>\n",
       "      <th>orb_pg</th>\n",
       "      <th>drb_pg</th>\n",
       "      <th>steals_pg</th>\n",
       "      <th>blocks_pg</th>\n",
       "      <th>tov_pg</th>\n",
       "      <th>pf_pg</th>\n",
       "      <th>ws_per_game</th>\n",
       "      <th>bpm</th>\n",
       "      <th>vorp</th>\n",
       "      <th>attend_college</th>\n",
       "      <th>inches</th>\n",
       "      <th>pounds</th>\n",
       "      <th>pos_num</th>\n",
       "    </tr>\n",
       "  </thead>\n",
       "  <tbody>\n",
       "    <tr>\n",
       "      <th>0</th>\n",
       "      <td>https://d2cwpp38twqe55.cloudfront.net/req/2019...</td>\n",
       "      <td>Deandre Ayton</td>\n",
       "      <td>C</td>\n",
       "      <td>7-1</td>\n",
       "      <td>250lb</td>\n",
       "      <td>Arizona</td>\n",
       "      <td>2018</td>\n",
       "      <td>1</td>\n",
       "      <td>PHO</td>\n",
       "      <td>1</td>\n",
       "      <td>0.585</td>\n",
       "      <td>0.000</td>\n",
       "      <td>0.746</td>\n",
       "      <td>30.7</td>\n",
       "      <td>16.3</td>\n",
       "      <td>10.3</td>\n",
       "      <td>1.8</td>\n",
       "      <td>7.2</td>\n",
       "      <td>12.3</td>\n",
       "      <td>0.0</td>\n",
       "      <td>0.1</td>\n",
       "      <td>0.585</td>\n",
       "      <td>2.0</td>\n",
       "      <td>2.7</td>\n",
       "      <td>3.1</td>\n",
       "      <td>7.1</td>\n",
       "      <td>0.9</td>\n",
       "      <td>0.9</td>\n",
       "      <td>1.8</td>\n",
       "      <td>2.9</td>\n",
       "      <td>0.128</td>\n",
       "      <td>0.2</td>\n",
       "      <td>1.2</td>\n",
       "      <td>1</td>\n",
       "      <td>85</td>\n",
       "      <td>250</td>\n",
       "      <td>5</td>\n",
       "    </tr>\n",
       "    <tr>\n",
       "      <th>1</th>\n",
       "      <td>https://d2cwpp38twqe55.cloudfront.net/req/2019...</td>\n",
       "      <td>Marvin Bagley</td>\n",
       "      <td>PF</td>\n",
       "      <td>6-11</td>\n",
       "      <td>234lb</td>\n",
       "      <td>Duke</td>\n",
       "      <td>2018</td>\n",
       "      <td>2</td>\n",
       "      <td>SAC</td>\n",
       "      <td>1</td>\n",
       "      <td>0.504</td>\n",
       "      <td>0.313</td>\n",
       "      <td>0.691</td>\n",
       "      <td>25.3</td>\n",
       "      <td>14.9</td>\n",
       "      <td>7.6</td>\n",
       "      <td>1.0</td>\n",
       "      <td>5.7</td>\n",
       "      <td>11.4</td>\n",
       "      <td>0.5</td>\n",
       "      <td>1.5</td>\n",
       "      <td>0.525</td>\n",
       "      <td>2.9</td>\n",
       "      <td>4.2</td>\n",
       "      <td>2.6</td>\n",
       "      <td>5.0</td>\n",
       "      <td>0.5</td>\n",
       "      <td>1.0</td>\n",
       "      <td>1.6</td>\n",
       "      <td>1.9</td>\n",
       "      <td>0.110</td>\n",
       "      <td>-1.8</td>\n",
       "      <td>0.1</td>\n",
       "      <td>1</td>\n",
       "      <td>83</td>\n",
       "      <td>234</td>\n",
       "      <td>4</td>\n",
       "    </tr>\n",
       "    <tr>\n",
       "      <th>2</th>\n",
       "      <td>https://d2cwpp38twqe55.cloudfront.net/req/2019...</td>\n",
       "      <td>Jaren Jackson</td>\n",
       "      <td>PF</td>\n",
       "      <td>6-11</td>\n",
       "      <td>242lb</td>\n",
       "      <td>Michigan State</td>\n",
       "      <td>2018</td>\n",
       "      <td>4</td>\n",
       "      <td>MEM</td>\n",
       "      <td>1</td>\n",
       "      <td>0.506</td>\n",
       "      <td>0.359</td>\n",
       "      <td>0.766</td>\n",
       "      <td>26.1</td>\n",
       "      <td>13.8</td>\n",
       "      <td>4.7</td>\n",
       "      <td>1.1</td>\n",
       "      <td>5.1</td>\n",
       "      <td>10.2</td>\n",
       "      <td>0.9</td>\n",
       "      <td>2.4</td>\n",
       "      <td>0.549</td>\n",
       "      <td>2.6</td>\n",
       "      <td>3.4</td>\n",
       "      <td>1.3</td>\n",
       "      <td>3.4</td>\n",
       "      <td>0.9</td>\n",
       "      <td>1.4</td>\n",
       "      <td>1.7</td>\n",
       "      <td>3.8</td>\n",
       "      <td>0.105</td>\n",
       "      <td>0.1</td>\n",
       "      <td>0.8</td>\n",
       "      <td>1</td>\n",
       "      <td>83</td>\n",
       "      <td>242</td>\n",
       "      <td>4</td>\n",
       "    </tr>\n",
       "    <tr>\n",
       "      <th>3</th>\n",
       "      <td>https://d2cwpp38twqe55.cloudfront.net/req/2019...</td>\n",
       "      <td>Trae Young</td>\n",
       "      <td>PG</td>\n",
       "      <td>6-2</td>\n",
       "      <td>180lb</td>\n",
       "      <td>Oklahoma</td>\n",
       "      <td>2018</td>\n",
       "      <td>5</td>\n",
       "      <td>DAL</td>\n",
       "      <td>1</td>\n",
       "      <td>0.418</td>\n",
       "      <td>0.324</td>\n",
       "      <td>0.829</td>\n",
       "      <td>30.9</td>\n",
       "      <td>19.1</td>\n",
       "      <td>3.7</td>\n",
       "      <td>8.1</td>\n",
       "      <td>6.5</td>\n",
       "      <td>15.5</td>\n",
       "      <td>1.9</td>\n",
       "      <td>6.0</td>\n",
       "      <td>0.480</td>\n",
       "      <td>4.2</td>\n",
       "      <td>5.1</td>\n",
       "      <td>0.8</td>\n",
       "      <td>2.9</td>\n",
       "      <td>0.9</td>\n",
       "      <td>0.2</td>\n",
       "      <td>3.8</td>\n",
       "      <td>1.7</td>\n",
       "      <td>0.062</td>\n",
       "      <td>-1.1</td>\n",
       "      <td>0.6</td>\n",
       "      <td>1</td>\n",
       "      <td>74</td>\n",
       "      <td>180</td>\n",
       "      <td>1</td>\n",
       "    </tr>\n",
       "    <tr>\n",
       "      <th>4</th>\n",
       "      <td>https://d2cwpp38twqe55.cloudfront.net/req/2019...</td>\n",
       "      <td>Mohamed Bamba</td>\n",
       "      <td>C</td>\n",
       "      <td>7-1</td>\n",
       "      <td>241lb</td>\n",
       "      <td>Texas</td>\n",
       "      <td>2018</td>\n",
       "      <td>6</td>\n",
       "      <td>ORL</td>\n",
       "      <td>1</td>\n",
       "      <td>0.481</td>\n",
       "      <td>0.300</td>\n",
       "      <td>0.587</td>\n",
       "      <td>16.3</td>\n",
       "      <td>6.2</td>\n",
       "      <td>5.0</td>\n",
       "      <td>0.8</td>\n",
       "      <td>2.5</td>\n",
       "      <td>5.2</td>\n",
       "      <td>0.4</td>\n",
       "      <td>1.5</td>\n",
       "      <td>0.525</td>\n",
       "      <td>0.8</td>\n",
       "      <td>1.3</td>\n",
       "      <td>1.4</td>\n",
       "      <td>3.6</td>\n",
       "      <td>0.3</td>\n",
       "      <td>1.4</td>\n",
       "      <td>0.9</td>\n",
       "      <td>2.2</td>\n",
       "      <td>0.106</td>\n",
       "      <td>-0.2</td>\n",
       "      <td>0.4</td>\n",
       "      <td>1</td>\n",
       "      <td>85</td>\n",
       "      <td>241</td>\n",
       "      <td>5</td>\n",
       "    </tr>\n",
       "  </tbody>\n",
       "</table>\n",
       "</div>"
      ],
      "text/plain": [
       "                                                 img         player position  \\\n",
       "0  https://d2cwpp38twqe55.cloudfront.net/req/2019...  Deandre Ayton        C   \n",
       "1  https://d2cwpp38twqe55.cloudfront.net/req/2019...  Marvin Bagley       PF   \n",
       "2  https://d2cwpp38twqe55.cloudfront.net/req/2019...  Jaren Jackson       PF   \n",
       "3  https://d2cwpp38twqe55.cloudfront.net/req/2019...     Trae Young       PG   \n",
       "4  https://d2cwpp38twqe55.cloudfront.net/req/2019...  Mohamed Bamba        C   \n",
       "\n",
       "  height weight         college  draft_yr  pick drafted_by  yrs  fg_pct  \\\n",
       "0    7-1  250lb         Arizona      2018     1        PHO    1   0.585   \n",
       "1   6-11  234lb            Duke      2018     2        SAC    1   0.504   \n",
       "2   6-11  242lb  Michigan State      2018     4        MEM    1   0.506   \n",
       "3    6-2  180lb        Oklahoma      2018     5        DAL    1   0.418   \n",
       "4    7-1  241lb           Texas      2018     6        ORL    1   0.481   \n",
       "\n",
       "   fg3_pct  ft_pct  min_pg  pts_pg  trb_pg  ast_pg  fg_pg  fga_pg  fg3_pg  \\\n",
       "0    0.000   0.746    30.7    16.3    10.3     1.8    7.2    12.3     0.0   \n",
       "1    0.313   0.691    25.3    14.9     7.6     1.0    5.7    11.4     0.5   \n",
       "2    0.359   0.766    26.1    13.8     4.7     1.1    5.1    10.2     0.9   \n",
       "3    0.324   0.829    30.9    19.1     3.7     8.1    6.5    15.5     1.9   \n",
       "4    0.300   0.587    16.3     6.2     5.0     0.8    2.5     5.2     0.4   \n",
       "\n",
       "   fg3a_pg  efg_pct  ft_pg  fta_pg  orb_pg  drb_pg  steals_pg  blocks_pg  \\\n",
       "0      0.1    0.585    2.0     2.7     3.1     7.1        0.9        0.9   \n",
       "1      1.5    0.525    2.9     4.2     2.6     5.0        0.5        1.0   \n",
       "2      2.4    0.549    2.6     3.4     1.3     3.4        0.9        1.4   \n",
       "3      6.0    0.480    4.2     5.1     0.8     2.9        0.9        0.2   \n",
       "4      1.5    0.525    0.8     1.3     1.4     3.6        0.3        1.4   \n",
       "\n",
       "   tov_pg  pf_pg  ws_per_game  bpm  vorp  attend_college  inches  pounds  \\\n",
       "0     1.8    2.9        0.128  0.2   1.2               1      85     250   \n",
       "1     1.6    1.9        0.110 -1.8   0.1               1      83     234   \n",
       "2     1.7    3.8        0.105  0.1   0.8               1      83     242   \n",
       "3     3.8    1.7        0.062 -1.1   0.6               1      74     180   \n",
       "4     0.9    2.2        0.106 -0.2   0.4               1      85     241   \n",
       "\n",
       "   pos_num  \n",
       "0        5  \n",
       "1        4  \n",
       "2        4  \n",
       "3        1  \n",
       "4        5  "
      ]
     },
     "execution_count": 12,
     "metadata": {},
     "output_type": "execute_result"
    }
   ],
   "source": [
    "new_df = df[cols]\n",
    "new_df.head()"
   ]
  },
  {
   "cell_type": "markdown",
   "metadata": {},
   "source": [
    "### Exporting the cleaned dataset to a new csv file so the data engineers can build the database."
   ]
  },
  {
   "cell_type": "code",
   "execution_count": 35,
   "metadata": {},
   "outputs": [],
   "source": [
    "new_df.to_csv('new_nba_stats.csv', index=False)"
   ]
  },
  {
   "cell_type": "markdown",
   "metadata": {},
   "source": [
    "### Separate the data into train, validation, and test dataframes"
   ]
  },
  {
   "cell_type": "code",
   "execution_count": 13,
   "metadata": {},
   "outputs": [],
   "source": [
    "train = new_df[new_df['draft_yr'] < 1990]\n",
    "validate = new_df[(new_df['draft_yr'] >= 1990) & (new_df['draft_yr'] < 2000)]\n",
    "test = new_df[new_df['draft_yr'] >= 2000]"
   ]
  },
  {
   "cell_type": "code",
   "execution_count": 14,
   "metadata": {},
   "outputs": [
    {
     "data": {
      "text/plain": [
       "((813, 29), (813,), (459, 29), (459,), (897, 29), (897,))"
      ]
     },
     "execution_count": 14,
     "metadata": {},
     "output_type": "execute_result"
    }
   ],
   "source": [
    "target = 'yrs'\n",
    "features = ['draft_yr', 'fg_pct', 'fg3_pct', 'ft_pct', 'min_pg', 'pts_pg', \n",
    "            'ast_pg', 'fg_pg', 'fga_pg', 'pick', 'fg3_pg', 'fg3a_pg', 'efg_pct', \n",
    "            'ft_pg', 'fta_pg', 'trb_pg', 'orb_pg', 'drb_pg', 'inches', 'pounds', \n",
    "            'steals_pg', 'blocks_pg', 'tov_pg', 'pf_pg', 'ws_per_game', 'bpm', \n",
    "            'vorp', 'attend_college', 'pos_num']\n",
    "\n",
    "X_train = train[features]\n",
    "y_train = train[target]\n",
    "X_val = validate[features]\n",
    "y_val = validate[target]\n",
    "X_test = test[features]\n",
    "y_test = test[target]\n",
    "\n",
    "X_train.shape, y_train.shape, X_val.shape, y_val.shape, X_test.shape, y_test.shape"
   ]
  },
  {
   "cell_type": "markdown",
   "metadata": {},
   "source": [
    "### Model building"
   ]
  },
  {
   "cell_type": "code",
   "execution_count": 40,
   "metadata": {},
   "outputs": [],
   "source": [
    "from sklearn.ensemble import RandomForestRegressor\n",
    "from sklearn.model_selection import GridSearchCV\n",
    "from sklearn.metrics import r2_score, mean_absolute_error\n",
    "from sklearn.pipeline import Pipeline\n",
    "from sklearn.preprocessing import StandardScaler\n",
    "from xgboost import XGBRegressor"
   ]
  },
  {
   "cell_type": "code",
   "execution_count": 41,
   "metadata": {},
   "outputs": [],
   "source": [
    "scaler = StandardScaler()\n",
    "model = RandomForestRegressor()\n",
    "pipe = Pipeline([('scaler', scaler), ('model', model)])"
   ]
  },
  {
   "cell_type": "code",
   "execution_count": 42,
   "metadata": {},
   "outputs": [
    {
     "name": "stdout",
     "output_type": "stream",
     "text": [
      "Fitting 3 folds for each of 135 candidates, totalling 405 fits\n"
     ]
    },
    {
     "name": "stderr",
     "output_type": "stream",
     "text": [
      "[Parallel(n_jobs=3)]: Using backend LokyBackend with 3 concurrent workers.\n",
      "[Parallel(n_jobs=3)]: Done   2 tasks      | elapsed:    6.5s\n",
      "[Parallel(n_jobs=3)]: Done   7 tasks      | elapsed:   31.4s\n",
      "[Parallel(n_jobs=3)]: Done  12 tasks      | elapsed:   52.7s\n",
      "[Parallel(n_jobs=3)]: Done  19 tasks      | elapsed:  1.7min\n",
      "[Parallel(n_jobs=3)]: Done  26 tasks      | elapsed:  2.2min\n",
      "[Parallel(n_jobs=3)]: Done  35 tasks      | elapsed:  2.9min\n",
      "[Parallel(n_jobs=3)]: Done  44 tasks      | elapsed:  3.8min\n",
      "[Parallel(n_jobs=3)]: Done  55 tasks      | elapsed:  4.2min\n",
      "[Parallel(n_jobs=3)]: Done  66 tasks      | elapsed:  4.8min\n",
      "[Parallel(n_jobs=3)]: Done  79 tasks      | elapsed:  5.7min\n",
      "[Parallel(n_jobs=3)]: Done  92 tasks      | elapsed:  6.6min\n",
      "[Parallel(n_jobs=3)]: Done 107 tasks      | elapsed:  7.5min\n",
      "[Parallel(n_jobs=3)]: Done 122 tasks      | elapsed:  8.3min\n",
      "[Parallel(n_jobs=3)]: Done 139 tasks      | elapsed:  9.2min\n",
      "[Parallel(n_jobs=3)]: Done 156 tasks      | elapsed: 10.3min\n",
      "[Parallel(n_jobs=3)]: Done 175 tasks      | elapsed: 11.8min\n",
      "[Parallel(n_jobs=3)]: Done 194 tasks      | elapsed: 13.3min\n",
      "[Parallel(n_jobs=3)]: Done 215 tasks      | elapsed: 14.3min\n",
      "[Parallel(n_jobs=3)]: Done 236 tasks      | elapsed: 15.5min\n",
      "[Parallel(n_jobs=3)]: Done 259 tasks      | elapsed: 16.9min\n",
      "[Parallel(n_jobs=3)]: Done 282 tasks      | elapsed: 18.1min\n",
      "[Parallel(n_jobs=3)]: Done 307 tasks      | elapsed: 20.0min\n",
      "[Parallel(n_jobs=3)]: Done 332 tasks      | elapsed: 21.8min\n",
      "[Parallel(n_jobs=3)]: Done 359 tasks      | elapsed: 23.7min\n",
      "[Parallel(n_jobs=3)]: Done 386 tasks      | elapsed: 24.9min\n",
      "[Parallel(n_jobs=3)]: Done 405 out of 405 | elapsed: 26.2min finished\n",
      "C:\\Users\\theta\\Anaconda3\\envs\\u4_s1_nlp\\lib\\site-packages\\sklearn\\preprocessing\\data.py:625: DataConversionWarning: Data with input dtype int64, float64 were all converted to float64 by StandardScaler.\n",
      "  return self.partial_fit(X, y)\n",
      "C:\\Users\\theta\\Anaconda3\\envs\\u4_s1_nlp\\lib\\site-packages\\sklearn\\base.py:465: DataConversionWarning: Data with input dtype int64, float64 were all converted to float64 by StandardScaler.\n",
      "  return self.fit(X, y, **fit_params).transform(X)\n"
     ]
    },
    {
     "data": {
      "text/plain": [
       "GridSearchCV(cv=3, error_score='raise-deprecating',\n",
       "       estimator=Pipeline(memory=None,\n",
       "     steps=[('scaler', StandardScaler(copy=True, with_mean=True, with_std=True)), ('model', RandomForestRegressor(bootstrap=True, criterion='mse', max_depth=None,\n",
       "           max_features='auto', max_leaf_nodes=None,\n",
       "           min_impurity_decrease=0.0, min_impurity_s...='warn', n_jobs=None,\n",
       "           oob_score=False, random_state=None, verbose=0, warm_start=False))]),\n",
       "       fit_params=None, iid='warn', n_jobs=3,\n",
       "       param_grid={'model__max_depth': [10, 20, None], 'model__n_estimators': [100, 500, 1000, 2000, 5000], 'model__min_samples_leaf': [1, 3, 5], 'model__min_samples_split': [2, 4, 6]},\n",
       "       pre_dispatch='2*n_jobs', refit=True, return_train_score='warn',\n",
       "       scoring=None, verbose=10)"
      ]
     },
     "execution_count": 42,
     "metadata": {},
     "output_type": "execute_result"
    }
   ],
   "source": [
    "parameters = {\n",
    "    'model__max_depth': [10, 20, None],\n",
    "    'model__n_estimators': [100, 500, 1000, 2000, 5000],\n",
    "    'model__min_samples_leaf': [1, 3, 5],\n",
    "    'model__min_samples_split': [2, 4, 6]\n",
    "}\n",
    "\n",
    "search = GridSearchCV(pipe, parameters, cv=3, verbose=10, n_jobs=3)\n",
    "search.fit(X_train, y_train)"
   ]
  },
  {
   "cell_type": "code",
   "execution_count": 45,
   "metadata": {},
   "outputs": [
    {
     "data": {
      "text/plain": [
       "Pipeline(memory=None,\n",
       "     steps=[('scaler', StandardScaler(copy=True, with_mean=True, with_std=True)), ('model', RandomForestRegressor(bootstrap=True, criterion='mse', max_depth=20,\n",
       "           max_features='auto', max_leaf_nodes=None,\n",
       "           min_impurity_decrease=0.0, min_impurity_split=None,\n",
       "           min_samples_leaf=3, min_samples_split=4,\n",
       "           min_weight_fraction_leaf=0.0, n_estimators=1000, n_jobs=None,\n",
       "           oob_score=False, random_state=None, verbose=0, warm_start=False))])"
      ]
     },
     "execution_count": 45,
     "metadata": {},
     "output_type": "execute_result"
    }
   ],
   "source": [
    "search.best_estimator_"
   ]
  },
  {
   "cell_type": "code",
   "execution_count": 46,
   "metadata": {},
   "outputs": [
    {
     "data": {
      "text/plain": [
       "0.807529823034222"
      ]
     },
     "execution_count": 46,
     "metadata": {},
     "output_type": "execute_result"
    }
   ],
   "source": [
    "search.best_score_"
   ]
  },
  {
   "cell_type": "code",
   "execution_count": 43,
   "metadata": {},
   "outputs": [
    {
     "name": "stdout",
     "output_type": "stream",
     "text": [
      "MAE: 1.5742798619960143\n",
      "R^2: 0.8231591213582186\n"
     ]
    },
    {
     "name": "stderr",
     "output_type": "stream",
     "text": [
      "C:\\Users\\theta\\Anaconda3\\envs\\u4_s1_nlp\\lib\\site-packages\\sklearn\\pipeline.py:331: DataConversionWarning: Data with input dtype int64, float64 were all converted to float64 by StandardScaler.\n",
      "  Xt = transform.transform(Xt)\n"
     ]
    }
   ],
   "source": [
    "y_pred = search.best_estimator_.predict(X_val)\n",
    "mae = mean_absolute_error(y_val, y_pred)\n",
    "score = r2_score(y_val, y_pred)\n",
    "print(f\"MAE: {mae}\")\n",
    "print(f\"R^2: {score}\")"
   ]
  },
  {
   "cell_type": "code",
   "execution_count": 44,
   "metadata": {},
   "outputs": [
    {
     "name": "stderr",
     "output_type": "stream",
     "text": [
      "C:\\Users\\theta\\Anaconda3\\envs\\u4_s1_nlp\\lib\\site-packages\\sklearn\\pipeline.py:331: DataConversionWarning: Data with input dtype int64, float64 were all converted to float64 by StandardScaler.\n",
      "  Xt = transform.transform(Xt)\n"
     ]
    },
    {
     "name": "stdout",
     "output_type": "stream",
     "text": [
      "MAE for test set: 1.9119149853547643\n",
      "R^2 for test set: 0.5975386710223406\n"
     ]
    }
   ],
   "source": [
    "y_pred2 = search.best_estimator_.predict(X_test)\n",
    "mae2 = mean_absolute_error(y_test, y_pred2)\n",
    "score2 = r2_score(y_test, y_pred2)\n",
    "print(f\"MAE for test set: {mae2}\")\n",
    "print(f\"R^2 for test set: {score2}\")"
   ]
  },
  {
   "cell_type": "markdown",
   "metadata": {},
   "source": [
    "### XGBoost Pipeline"
   ]
  },
  {
   "cell_type": "code",
   "execution_count": 47,
   "metadata": {},
   "outputs": [],
   "source": [
    "scaler = StandardScaler()\n",
    "model2 = XGBRegressor()\n",
    "xgb = Pipeline([('scaler', scaler), ('model2', model2)]) "
   ]
  },
  {
   "cell_type": "code",
   "execution_count": 48,
   "metadata": {},
   "outputs": [
    {
     "name": "stdout",
     "output_type": "stream",
     "text": [
      "Fitting 3 folds for each of 144 candidates, totalling 432 fits\n"
     ]
    },
    {
     "name": "stderr",
     "output_type": "stream",
     "text": [
      "[Parallel(n_jobs=3)]: Using backend LokyBackend with 3 concurrent workers.\n",
      "[Parallel(n_jobs=3)]: Done   2 tasks      | elapsed:    5.6s\n",
      "[Parallel(n_jobs=3)]: Done   7 tasks      | elapsed:    7.8s\n",
      "[Parallel(n_jobs=3)]: Done  12 tasks      | elapsed:    8.1s\n",
      "[Parallel(n_jobs=3)]: Done  19 tasks      | elapsed:   13.3s\n",
      "[Parallel(n_jobs=3)]: Done  26 tasks      | elapsed:   18.2s\n",
      "[Parallel(n_jobs=3)]: Done  35 tasks      | elapsed:   23.5s\n",
      "[Parallel(n_jobs=3)]: Done  44 tasks      | elapsed:   25.6s\n",
      "[Parallel(n_jobs=3)]: Done  55 tasks      | elapsed:   28.9s\n",
      "[Parallel(n_jobs=3)]: Done  66 tasks      | elapsed:   33.1s\n",
      "[Parallel(n_jobs=3)]: Done  79 tasks      | elapsed:   39.9s\n",
      "[Parallel(n_jobs=3)]: Done  92 tasks      | elapsed:   43.4s\n",
      "[Parallel(n_jobs=3)]: Done 107 tasks      | elapsed:   51.1s\n",
      "[Parallel(n_jobs=3)]: Done 122 tasks      | elapsed:   54.6s\n",
      "[Parallel(n_jobs=3)]: Done 139 tasks      | elapsed:  1.1min\n",
      "[Parallel(n_jobs=3)]: Done 156 tasks      | elapsed:  1.1min\n",
      "[Parallel(n_jobs=3)]: Done 175 tasks      | elapsed:  1.1min\n",
      "[Parallel(n_jobs=3)]: Done 194 tasks      | elapsed:  1.2min\n",
      "[Parallel(n_jobs=3)]: Done 215 tasks      | elapsed:  1.2min\n",
      "[Parallel(n_jobs=3)]: Done 236 tasks      | elapsed:  1.2min\n",
      "[Parallel(n_jobs=3)]: Done 259 tasks      | elapsed:  1.3min\n",
      "[Parallel(n_jobs=3)]: Done 282 tasks      | elapsed:  1.3min\n",
      "[Parallel(n_jobs=3)]: Done 307 tasks      | elapsed:  1.7min\n",
      "[Parallel(n_jobs=3)]: Done 332 tasks      | elapsed:  2.7min\n",
      "[Parallel(n_jobs=3)]: Done 359 tasks      | elapsed:  3.8min\n",
      "[Parallel(n_jobs=3)]: Done 386 tasks      | elapsed:  4.9min\n",
      "[Parallel(n_jobs=3)]: Done 415 tasks      | elapsed:  5.9min\n",
      "[Parallel(n_jobs=3)]: Done 432 out of 432 | elapsed:  6.6min finished\n",
      "C:\\Users\\theta\\Anaconda3\\envs\\u4_s1_nlp\\lib\\site-packages\\sklearn\\preprocessing\\data.py:625: DataConversionWarning: Data with input dtype int64, float64 were all converted to float64 by StandardScaler.\n",
      "  return self.partial_fit(X, y)\n",
      "C:\\Users\\theta\\Anaconda3\\envs\\u4_s1_nlp\\lib\\site-packages\\sklearn\\base.py:465: DataConversionWarning: Data with input dtype int64, float64 were all converted to float64 by StandardScaler.\n",
      "  return self.fit(X, y, **fit_params).transform(X)\n",
      "C:\\Users\\theta\\Anaconda3\\envs\\u4_s1_nlp\\lib\\site-packages\\xgboost\\core.py:587: FutureWarning: Series.base is deprecated and will be removed in a future version\n",
      "  if getattr(data, 'base', None) is not None and \\\n",
      "C:\\Users\\theta\\Anaconda3\\envs\\u4_s1_nlp\\lib\\site-packages\\xgboost\\core.py:588: FutureWarning: Series.base is deprecated and will be removed in a future version\n",
      "  data.base is not None and isinstance(data, np.ndarray) \\\n"
     ]
    },
    {
     "name": "stdout",
     "output_type": "stream",
     "text": [
      "[20:30:39] WARNING: src/objective/regression_obj.cu:152: reg:linear is now deprecated in favor of reg:squarederror.\n"
     ]
    },
    {
     "data": {
      "text/plain": [
       "GridSearchCV(cv=3, error_score='raise-deprecating',\n",
       "       estimator=Pipeline(memory=None,\n",
       "     steps=[('scaler', StandardScaler(copy=True, with_mean=True, with_std=True)), ('model2', XGBRegressor(base_score=0.5, booster='gbtree', colsample_bylevel=1,\n",
       "       colsample_bynode=1, colsample_bytree=1, gamma=0,\n",
       "       importance_type='gain', learning_rate=0.1, max_delta_step=0,\n",
       "       max_depth=3, ...lpha=0, reg_lambda=1, scale_pos_weight=1, seed=None,\n",
       "       silent=None, subsample=1, verbosity=1))]),\n",
       "       fit_params=None, iid='warn', n_jobs=3,\n",
       "       param_grid={'model2__max_depth': [2, 3, 4, 5], 'model2__learning_rate': [0.001, 0.01, 0.1, 0.2], 'model2__n_estimators': [100, 500, 1000], 'model2__booster': ['gbtree', 'gblinear', 'dart']},\n",
       "       pre_dispatch='2*n_jobs', refit=True, return_train_score='warn',\n",
       "       scoring=None, verbose=10)"
      ]
     },
     "execution_count": 48,
     "metadata": {},
     "output_type": "execute_result"
    }
   ],
   "source": [
    "params = {\n",
    "    'model2__max_depth': [2, 3, 4, 5],\n",
    "    'model2__learning_rate': [0.001, 0.01, 0.1, 0.2],\n",
    "    'model2__n_estimators': [100, 500, 1000],\n",
    "    'model2__booster': ['gbtree', 'gblinear', 'dart']\n",
    "}\n",
    "\n",
    "gridsearch = GridSearchCV(xgb, params, cv=3, verbose=10, n_jobs=3)\n",
    "gridsearch.fit(X_train, y_train)"
   ]
  },
  {
   "cell_type": "code",
   "execution_count": 49,
   "metadata": {},
   "outputs": [
    {
     "data": {
      "text/plain": [
       "Pipeline(memory=None,\n",
       "     steps=[('scaler', StandardScaler(copy=True, with_mean=True, with_std=True)), ('model2', XGBRegressor(base_score=0.5, booster='dart', colsample_bylevel=1,\n",
       "       colsample_bynode=1, colsample_bytree=1, gamma=0,\n",
       "       importance_type='gain', learning_rate=0.01, max_delta_step=0,\n",
       "       max_depth=4, m...lpha=0, reg_lambda=1, scale_pos_weight=1, seed=None,\n",
       "       silent=None, subsample=1, verbosity=1))])"
      ]
     },
     "execution_count": 49,
     "metadata": {},
     "output_type": "execute_result"
    }
   ],
   "source": [
    "gridsearch.best_estimator_"
   ]
  },
  {
   "cell_type": "code",
   "execution_count": 50,
   "metadata": {},
   "outputs": [
    {
     "data": {
      "text/plain": [
       "{'model2__booster': 'dart',\n",
       " 'model2__learning_rate': 0.01,\n",
       " 'model2__max_depth': 4,\n",
       " 'model2__n_estimators': 1000}"
      ]
     },
     "execution_count": 50,
     "metadata": {},
     "output_type": "execute_result"
    }
   ],
   "source": [
    "gridsearch.best_params_"
   ]
  },
  {
   "cell_type": "code",
   "execution_count": 51,
   "metadata": {},
   "outputs": [
    {
     "data": {
      "text/plain": [
       "0.8407933604487383"
      ]
     },
     "execution_count": 51,
     "metadata": {},
     "output_type": "execute_result"
    }
   ],
   "source": [
    "gridsearch.best_score_"
   ]
  },
  {
   "cell_type": "code",
   "execution_count": 52,
   "metadata": {},
   "outputs": [
    {
     "name": "stdout",
     "output_type": "stream",
     "text": [
      "MAE: 1.4435309061297663\n",
      "R^2: 0.8554907216596112\n"
     ]
    },
    {
     "name": "stderr",
     "output_type": "stream",
     "text": [
      "C:\\Users\\theta\\Anaconda3\\envs\\u4_s1_nlp\\lib\\site-packages\\sklearn\\pipeline.py:331: DataConversionWarning: Data with input dtype int64, float64 were all converted to float64 by StandardScaler.\n",
      "  Xt = transform.transform(Xt)\n"
     ]
    }
   ],
   "source": [
    "xgb_preds = gridsearch.best_estimator_.predict(X_val)\n",
    "mae3 = mean_absolute_error(y_val, xgb_preds)\n",
    "score3 = r2_score(y_val, xgb_preds)\n",
    "print(f\"MAE: {mae3}\")\n",
    "print(f\"R^2: {score3}\")"
   ]
  },
  {
   "cell_type": "markdown",
   "metadata": {},
   "source": [
    "### Pickle the best model"
   ]
  },
  {
   "cell_type": "code",
   "execution_count": 53,
   "metadata": {},
   "outputs": [
    {
     "data": {
      "text/plain": [
       "['career_model']"
      ]
     },
     "execution_count": 53,
     "metadata": {},
     "output_type": "execute_result"
    }
   ],
   "source": [
    "import joblib\n",
    "\n",
    "joblib.dump(gridsearch.best_estimator_, 'career_model')"
   ]
  }
 ],
 "metadata": {
  "kernelspec": {
   "display_name": "u4_s1_nlp",
   "language": "python",
   "name": "u4_s1_nlp"
  },
  "language_info": {
   "codemirror_mode": {
    "name": "ipython",
    "version": 3
   },
   "file_extension": ".py",
   "mimetype": "text/x-python",
   "name": "python",
   "nbconvert_exporter": "python",
   "pygments_lexer": "ipython3",
   "version": "3.7.3"
  }
 },
 "nbformat": 4,
 "nbformat_minor": 2
}
